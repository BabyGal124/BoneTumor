{
 "cells": [
  {
   "cell_type": "code",
   "execution_count": 1,
   "id": "8ef12226-9df2-4b0a-b826-579e6938f380",
   "metadata": {},
   "outputs": [
    {
     "ename": "NameError",
     "evalue": "name 'pd' is not defined",
     "output_type": "error",
     "traceback": [
      "\u001b[1;31m---------------------------------------------------------------------------\u001b[0m",
      "\u001b[1;31mNameError\u001b[0m                                 Traceback (most recent call last)",
      "Cell \u001b[1;32mIn[1], line 2\u001b[0m\n\u001b[0;32m      1\u001b[0m \u001b[38;5;66;03m# Step 1: Load the dataset\u001b[39;00m\n\u001b[1;32m----> 2\u001b[0m df \u001b[38;5;241m=\u001b[39m \u001b[43mpd\u001b[49m\u001b[38;5;241m.\u001b[39mread_csv(\u001b[38;5;124m\"\u001b[39m\u001b[38;5;124mbone_tumor_dataset.csv\u001b[39m\u001b[38;5;124m\"\u001b[39m)  \u001b[38;5;66;03m# Replace with your actual dataset path\u001b[39;00m\n\u001b[0;32m      4\u001b[0m \u001b[38;5;66;03m# Step 2: Check the column names\u001b[39;00m\n\u001b[0;32m      5\u001b[0m \u001b[38;5;28mprint\u001b[39m(\u001b[38;5;124m\"\u001b[39m\u001b[38;5;124mColumn names in the dataset:\u001b[39m\u001b[38;5;124m\"\u001b[39m, df\u001b[38;5;241m.\u001b[39mcolumns)\n",
      "\u001b[1;31mNameError\u001b[0m: name 'pd' is not defined"
     ]
    }
   ],
   "source": [
    "# Step 1: Load the dataset\n",
    "df = pd.read_csv(\"bone_tumor_dataset.csv\")  # Replace with your actual dataset path\n",
    "\n",
    "# Step 2: Check the column names\n",
    "print(\"Column names in the dataset:\", df.columns)\n",
    "\n",
    "# Step 3: Data Preprocessing\n",
    "\n",
    "# Check for missing values\n",
    "print(\"Checking for missing values:\\n\", df.isnull().sum())\n",
    "\n",
    "# Handle missing values (only for numeric columns)\n",
    "numeric_columns = df.select_dtypes(include=['number']).columns  # Select only numeric columns\n",
    "df[numeric_columns] = df[numeric_columns].fillna(df[numeric_columns].mean())  # Replace missing values with column mean for numeric columns\n",
    "\n",
    "# Check the column names again and make sure 'Status (NED, AWD, D)' exists\n",
    "print(\"Columns after handling missing values:\", df.columns)\n",
    "\n",
    "# Encode 'Status (NED, AWD, D)' column (NED -> 0, AWD -> 1, D -> 2)\n",
    "df['Status (NED, AWD, D)'] = df['Status (NED, AWD, D)'].map({'NED': 0, 'AWD': 1, 'D': 2})\n",
    "\n",
    "# Step 4: Splitting the dataset into features (X) and target (y)\n",
    "X = df.drop(columns=['Status (NED, AWD, D)'])  # Features\n",
    "y = df['Status (NED, AWD, D)']  # Target\n",
    "\n",
    "# Step 5: Remove non-numeric columns from X (features) before scaling\n",
    "X = X.select_dtypes(include=[np.number])  # Only keep numeric columns\n",
    "\n",
    "# Step 6: Split the data into training and testing sets\n",
    "X_train, X_test, y_train, y_test = train_test_split(X, y, test_size=0.2, random_state=42)\n",
    "\n",
    "# Step 7: Feature Scaling (Standardize the features)\n",
    "scaler = StandardScaler()\n",
    "X_train = scaler.fit_transform(X_train)\n",
    "X_test = scaler.transform(X_test)\n",
    "\n",
    "# Step 8: Train a model (e.g., Logistic Regression)\n",
    "model = LogisticRegression()\n",
    "model.fit(X_train, y_train)\n",
    "\n",
    "# Step 9: Make predictions\n",
    "y_pred = model.predict(X_test)\n",
    "\n",
    "# Step 10: Evaluate the model\n",
    "# Confusion Matrix\n",
    "cm = confusion_matrix(y_test, y_pred)\n",
    "print(\"Confusion Matrix:\\n\", cm)\n",
    "\n",
    "# Classification Report\n",
    "print(\"\\nClassification Report:\\n\", classification_report(y_test, y_pred))\n",
    "\n",
    "# Step 11: Visualize the confusion matrix\n",
    "plt.figure(figsize=(8, 6))\n",
    "sns.heatmap(cm, annot=True, fmt='d', cmap='Blues', xticklabels=['NED', 'AWD', 'D'], yticklabels=['NED', 'AWD', 'D'])\n",
    "plt.title('Confusion Matrix')\n",
    "plt.xlabel('Predicted')\n",
    "plt.ylabel('Actual')\n",
    "plt.show()\n"
   ]
  },
  {
   "cell_type": "code",
   "execution_count": null,
   "id": "fdf99667-0393-4fe8-8f8b-b879af29a4a4",
   "metadata": {},
   "outputs": [],
   "source": []
  },
  {
   "cell_type": "code",
   "execution_count": null,
   "id": "4be85d91-b113-4cbf-af5a-b47e1c8dc2e0",
   "metadata": {},
   "outputs": [],
   "source": []
  },
  {
   "cell_type": "code",
   "execution_count": null,
   "id": "6d442e0d-7112-4647-a438-edb5b0f2dc69",
   "metadata": {},
   "outputs": [],
   "source": []
  }
 ],
 "metadata": {
  "kernelspec": {
   "display_name": "Python 3 (ipykernel)",
   "language": "python",
   "name": "python3"
  },
  "language_info": {
   "codemirror_mode": {
    "name": "ipython",
    "version": 3
   },
   "file_extension": ".py",
   "mimetype": "text/x-python",
   "name": "python",
   "nbconvert_exporter": "python",
   "pygments_lexer": "ipython3",
   "version": "3.10.11"
  }
 },
 "nbformat": 4,
 "nbformat_minor": 5
}
